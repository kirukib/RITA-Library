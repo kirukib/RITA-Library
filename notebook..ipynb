{
 "cells": [
  {
   "cell_type": "markdown",
   "metadata": {},
   "source": [
    "# Library Management System\n",
    "\n",
    "This notebook implements a Library Management System that allows users to:\n",
    "- Add books to the library\n",
    "- Search for books\n",
    "- Borrow books\n",
    "- Return books\n",
    "\n",
    "The system uses Python lists and dictionaries to store and manage book and user information."
   ]
  },
  {
   "cell_type": "code",
   "execution_count": null,
   "metadata": {},
   "outputs": [],
   "source": [
    "# Import necessary libraries\n",
    "import datetime"
   ]
  },
  {
   "cell_type": "markdown",
   "metadata": {},
   "source": [
    "## Data Structures\n",
    "\n",
    "We'll use the following data structures to store library information:"
   ]
  },
  {
   "cell_type": "code",
   "execution_count": null,
   "metadata": {},
   "outputs": [],
   "source": [
    "# List of books in the library\n",
    "library_books = []\n",
    "\n",
    "# Dictionary to store borrowed books\n",
    "borrowed_books = {}\n",
    "\n",
    "# List of users\n",
    "users = []"
   ]
  },
  {
   "cell_type": "markdown",
   "metadata": {},
   "source": [
    "## Core Functions"
   ]
  },
  {
   "cell_type": "code",
   "execution_count": null,
   "metadata": {},
   "outputs": [],
   "source": [
    "# Function to add a new book to the library\n",
    "def add_book(book_id, title, author):\n",
    "    \"\"\"\n",
    "    Adds a new book to the library.\n",
    "    \n",
    "    Parameters:\n",
    "    - book_id (str): Unique identifier for the book\n",
    "    - title (str): Title of the book\n",
    "    - author (str): Author of the book\n",
    "    \"\"\"\n",
    "    book = {\n",
    "        \"book_id\": book_id,\n",
    "        \"title\": title,\n",
    "        \"author\": author,\n",
    "        \"available\": True\n",
    "    }\n",
    "    library_books.append(book)  # Add the book to the library_books list\n",
    "    print(f\"Book '{title}' by {author} added to the library.\")"
   ]
  },
  {
   "cell_type": "code",
   "execution_count": null,
   "metadata": {},
   "outputs": [],
   "source": [
    "# Function to search for a book\n",
    "def search_book(title):\n",
    "    \"\"\"\n",
    "    Searches for books in the library that match the given title (case-insensitive).\n",
    "    \n",
    "    Parameters:\n",
    "    - title (str): Title or part of title to search for\n",
    "    \"\"\"\n",
    "    # Search for books in the library that match the given title (case-insensitive)\n",
    "    found_books = [\n",
    "        book for book in library_books\n",
    "        if title.lower() in book[\"title\"].lower()\n",
    "    ]\n",
    "    \n",
    "    if found_books:\n",
    "        # Iterate through the found books and print their details\n",
    "        for book in found_books:\n",
    "            status = \"Available\" if book[\"available\"] else \"Borrowed\"\n",
    "            print(\n",
    "                f\"ID: {book['book_id']}, Title: {book['title']}, \"\n",
    "                f\"Author: {book['author']}, Status: {status}\"\n",
    "            )\n",
    "    else:\n",
    "        print(\"No books found with that title.\")"
   ]
  },
  {
   "cell_type": "code",
   "execution_count": null,
   "metadata": {},
   "outputs": [],
   "source": [
    "# Function to borrow a book\n",
    "def borrow_book(user, book_id):\n",
    "    \"\"\"\n",
    "    Allows a user to borrow a book if it's available.\n",
    "    \n",
    "    Parameters:\n",
    "    - user (str): Name of the user borrowing the book\n",
    "    - book_id (str): ID of the book to borrow\n",
    "    \"\"\"\n",
    "    # Check if the specified book is available and mark it as borrowed\n",
    "    for book in library_books:\n",
    "        if book[\"book_id\"] == book_id and book[\"available\"]:\n",
    "            book[\"available\"] = False  # Mark the book as unavailable\n",
    "            borrowed_books[book_id] = {\n",
    "                \"user\": user,\n",
    "                \"borrow_date\": datetime.date.today()  # Record the borrow date\n",
    "            }\n",
    "            print(f\"Book '{book['title']}' borrowed by {user}.\")\n",
    "            return\n",
    "    \n",
    "    print(\"Book not available or does not exist.\")"
   ]
  },
  {
   "cell_type": "code",
   "execution_count": null,
   "metadata": {},
   "outputs": [],
   "source": [
    "# Function to return a book\n",
    "def return_book(book_id):\n",
    "    \"\"\"\n",
    "    Returns a borrowed book to the library.\n",
    "    \n",
    "    Parameters:\n",
    "    - book_id (str): ID of the book being returned\n",
    "    \"\"\"\n",
    "    # Check if the book is in borrowed_books and mark it as available\n",
    "    if book_id in borrowed_books:\n",
    "        for book in library_books:\n",
    "            if book[\"book_id\"] == book_id:\n",
    "                book[\"available\"] = True  # Mark the book as available\n",
    "                borrowed_books.pop(book_id)  # Remove the book from borrowed_books\n",
    "                print(f\"Book '{book['title']}' returned.\")\n",
    "                return\n",
    "    print(\"Book not found in borrowed books.\")"
   ]
  },
  {
   "cell_type": "markdown",
   "metadata": {},
   "source": [
    "## Main Program Loop"
   ]
  },
  {
   "cell_type": "code",
   "execution_count": null,
   "metadata": {},
   "outputs": [],
   "source": [
    "def main():\n",
    "    \"\"\"\n",
    "    Main function that runs the library management system interface.\n",
    "    \"\"\"\n",
    "    # Start an infinite loop for the library management system\n",
    "    while True:\n",
    "        print(\"\\nLibrary Management System\")\n",
    "        print(\"1. Add Book\")\n",
    "        print(\"2. Search Book\")\n",
    "        print(\"3. Borrow Book\")\n",
    "        print(\"4. Return Book\")\n",
    "        print(\"5. Exit\")\n",
    "        \n",
    "        choice = input(\"Enter your choice: \")\n",
    "        \n",
    "        # Handle user choices for library operations\n",
    "        if choice == '1':\n",
    "            book_id = input(\"Enter book ID: \")\n",
    "            title = input(\"Enter book title: \")\n",
    "            author = input(\"Enter book author: \")\n",
    "            add_book(book_id, title, author)  # Call function to add a new book\n",
    "            \n",
    "        elif choice == '2':\n",
    "            title = input(\"Enter book title to search: \")\n",
    "            search_book(title)  # Call function to search for a book\n",
    "            \n",
    "        elif choice == '3':\n",
    "            user = input(\"Enter your name: \")\n",
    "            book_id = input(\"Enter book ID to borrow: \")\n",
    "            borrow_book(user, book_id)  # Call function to borrow a book\n",
    "            \n",
    "        elif choice == '4':\n",
    "            book_id = input(\"Enter book ID to return: \")\n",
    "            return_book(book_id)  # Call function to return a borrowed book\n",
    "            \n",
    "        elif choice == '5':\n",
    "            print(\"Exiting the system. Goodbye!\")  # Exit message\n",
    "            break  # Exit the loop and end the program\n",
    "            \n",
    "        else:\n",
    "            print(\"Invalid choice. Please try again.\")  # Handle invalid input"
   ]
  },
  {
   "cell_type": "markdown",
   "metadata": {},
   "source": [
    "## Running the System\n",
    "\n",
    "Execute the following cell to start the Library Management System:"
   ]
  },
  {
   "cell_type": "code",
   "execution_count": null,
   "metadata": {},
   "outputs": [],
   "source": [
    "# Start the Library Management System\n",
    "if __name__ == \"__main__\":\n",
    "    main()"
   ]
  }
 ],
 "metadata": {
  "kernelspec": {
   "display_name": "Python 3",
   "language": "python",
   "name": "python3"
  },
  "language_info": {
   "codemirror_mode": {
    "name": "ipython",
    "version": 3
   },
   "file_extension": ".py",
   "mimetype": "text/x-python",
   "name": "python",
   "nbconvert_exporter": "python",
   "pygments_lexer": "ipython3",
   "version": "3.8.5"
  }
 },
 "nbformat": 4,
 "nbformat_minor": 4
}